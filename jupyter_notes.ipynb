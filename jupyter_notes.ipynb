{
 "cells": [
  {
   "cell_type": "markdown",
   "id": "d339b7b0-35e7-473b-ba10-1c5a9337880c",
   "metadata": {},
   "source": [
    "# Jupyter Notes\n",
    "esc + m ->> cell becomes a mardown cell<br>\n",
    "esc = y ->> cell becomes a code cell<br>\n",
    "esc + J ->> adds a cell below.  Hit enter to move cursor into it<br>"
   ]
  }
 ],
 "metadata": {
  "kernelspec": {
   "display_name": "Python 3 (ipykernel)",
   "language": "python",
   "name": "python3"
  },
  "language_info": {
   "codemirror_mode": {
    "name": "ipython",
    "version": 3
   },
   "file_extension": ".py",
   "mimetype": "text/x-python",
   "name": "python",
   "nbconvert_exporter": "python",
   "pygments_lexer": "ipython3",
   "version": "3.12.3"
  }
 },
 "nbformat": 4,
 "nbformat_minor": 5
}
